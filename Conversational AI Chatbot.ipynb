{
 "cells": [
  {
   "cell_type": "code",
   "execution_count": 3,
   "id": "df94ccfc-ce06-4f51-9dc5-d5e29c959556",
   "metadata": {},
   "outputs": [
    {
     "name": "stdout",
     "output_type": "stream",
     "text": [
      "* Running on local URL:  http://127.0.0.1:7869\n",
      "\n",
      "To create a public link, set `share=True` in `launch()`.\n"
     ]
    },
    {
     "data": {
      "text/html": [
       "<div><iframe src=\"http://127.0.0.1:7869/\" width=\"100%\" height=\"500\" allow=\"autoplay; camera; microphone; clipboard-read; clipboard-write;\" frameborder=\"0\" allowfullscreen></iframe></div>"
      ],
      "text/plain": [
       "<IPython.core.display.HTML object>"
      ]
     },
     "metadata": {},
     "output_type": "display_data"
    },
    {
     "data": {
      "text/plain": []
     },
     "execution_count": 3,
     "metadata": {},
     "output_type": "execute_result"
    }
   ],
   "source": [
    "import os\n",
    "from dotenv import load_dotenv\n",
    "from openai import OpenAI\n",
    "import gradio as gr\n",
    "\n",
    "load_dotenv()\n",
    "api_key = os.getenv(\"OPENAI_API_KEY\")\n",
    "\n",
    "if not api_key:\n",
    "    raise ValueError(\"OPENAI_API_KEY not found in .env\")\n",
    "\n",
    "openai = OpenAI(api_key=api_key)\n",
    "MODEL = \"gpt-4o-mini\"\n",
    "\n",
    "base_system_message = \"\"\"You are a helpful assistant in a clothing store. \n",
    "You should gently encourage the customer to try items that are on sale. \n",
    "Hats are 60% off, and most other items are 50% off. \n",
    "If they mention hats, encourage them to explore those. \n",
    "If they ask about shoes, mention they're not on sale, but remind them about hats. \n",
    "If they ask for belts, inform them that belts aren't sold, and suggest sale items instead.\"\"\"\n",
    "\n",
    "def chat(message, history):\n",
    "    system_message = base_system_message\n",
    "    if \"belt\" in message.lower():\n",
    "        system_message += \" Remember: belts aren't available.\"\n",
    "\n",
    "    messages = [{\"role\": \"system\", \"content\": system_message}]\n",
    "    \n",
    "    for turn in history:\n",
    "        if turn[\"role\"] == \"user\":\n",
    "            messages.append({\"role\": \"user\", \"content\": turn[\"content\"]})\n",
    "        elif turn[\"role\"] == \"assistant\":\n",
    "            messages.append({\"role\": \"assistant\", \"content\": turn[\"content\"]})\n",
    "\n",
    "    messages.append({\"role\": \"user\", \"content\": message})\n",
    "\n",
    "    stream = openai.chat.completions.create(model=MODEL, messages=messages, stream=True)\n",
    "\n",
    "    response = \"\"\n",
    "    for chunk in stream:\n",
    "        response += chunk.choices[0].delta.content or \"\"\n",
    "        yield response\n",
    "\n",
    "gr.ChatInterface(fn=chat, type=\"messages\", title=\"🧢 Clothing Store Chatbot\").launch()\n"
   ]
  },
  {
   "cell_type": "code",
   "execution_count": null,
   "id": "0ff9ce08-3a07-4980-81c8-0aaf3c576913",
   "metadata": {},
   "outputs": [],
   "source": []
  }
 ],
 "metadata": {
  "kernelspec": {
   "display_name": "Python 3 (ipykernel)",
   "language": "python",
   "name": "python3"
  },
  "language_info": {
   "codemirror_mode": {
    "name": "ipython",
    "version": 3
   },
   "file_extension": ".py",
   "mimetype": "text/x-python",
   "name": "python",
   "nbconvert_exporter": "python",
   "pygments_lexer": "ipython3",
   "version": "3.11.11"
  }
 },
 "nbformat": 4,
 "nbformat_minor": 5
}
