{
 "cells": [
  {
   "cell_type": "code",
   "execution_count": 9,
   "id": "264def15-6369-401a-87d2-651625c61e75",
   "metadata": {},
   "outputs": [
    {
     "name": "stdout",
     "output_type": "stream",
     "text": [
      "* Running on local URL:  http://127.0.0.1:7869\n",
      "\n",
      "To create a public link, set `share=True` in `launch()`.\n"
     ]
    },
    {
     "data": {
      "text/html": [
       "<div><iframe src=\"http://127.0.0.1:7869/\" width=\"100%\" height=\"500\" allow=\"autoplay; camera; microphone; clipboard-read; clipboard-write;\" frameborder=\"0\" allowfullscreen></iframe></div>"
      ],
      "text/plain": [
       "<IPython.core.display.HTML object>"
      ]
     },
     "metadata": {},
     "output_type": "display_data"
    },
    {
     "data": {
      "text/plain": []
     },
     "execution_count": 9,
     "metadata": {},
     "output_type": "execute_result"
    }
   ],
   "source": [
    "import os\n",
    "import json\n",
    "from dotenv import load_dotenv\n",
    "from openai import OpenAI\n",
    "import gradio as gr\n",
    "\n",
    "# Initialize\n",
    "load_dotenv()\n",
    "openai = OpenAI(api_key=os.getenv('OPENAI_API_KEY'))\n",
    "MODEL = \"gpt-4o-mini\"\n",
    "\n",
    "# System message\n",
    "system_message = \"You are a helpful assistant for FlightAI. Give short, accurate answers. If unsure, say so. \"\n",
    "system_message += \"When booking a flight, ask for the user's departure city, destination city, name, email, and phone number one at a time, in that order.\"\n",
    "\n",
    "# Ticket prices\n",
    "ticket_prices = {\"london\": \"$799\", \"paris\": \"$899\", \"tokyo\": \"$1400\", \"berlin\": \"$499\"}\n",
    "\n",
    "def get_ticket_price(city):\n",
    "    return ticket_prices.get(city.lower(), \"Unknown\")\n",
    "\n",
    "# Function definition for OpenAI\n",
    "price_function = {\n",
    "    \"name\": \"get_ticket_price\",\n",
    "    \"description\": \"Get return ticket price to a destination city.\",\n",
    "    \"parameters\": {\n",
    "        \"type\": \"object\",\n",
    "        \"properties\": {\n",
    "            \"destination_city\": {\"type\": \"string\", \"description\": \"Destination city\"}\n",
    "        },\n",
    "        \"required\": [\"destination_city\"]\n",
    "    }\n",
    "}\n",
    "tools = [{\"type\": \"function\", \"function\": price_function}]\n",
    "\n",
    "# Store booking info\n",
    "booking_info = {}\n",
    "\n",
    "def generate_ticket(booking_info):\n",
    "    \"\"\"Generate a formatted ticket with booking details.\"\"\"\n",
    "    ticket = \"===== FlightAI Ticket =====\\n\"\n",
    "    ticket += f\"Booking Status: CONFIRMED\\n\"\n",
    "    ticket += f\"Passenger Name: {booking_info['name']}\\n\"\n",
    "    ticket += f\"From: {booking_info['departure']}\\n\"\n",
    "    ticket += f\"To: {booking_info['destination']}\\n\"\n",
    "    ticket += f\"Ticket Price: {booking_info['price']}\\n\"\n",
    "    ticket += f\"Email: {booking_info['email']}\\n\"\n",
    "    ticket += f\"Phone: {booking_info['phone']}\\n\"\n",
    "    ticket += \"=========================\\n\"\n",
    "    ticket += \"Thank you for choosing FlightAI!\"\n",
    "    return ticket\n",
    "\n",
    "def chat(message, history):\n",
    "    global booking_info\n",
    "    messages = [{\"role\": \"system\", \"content\": system_message}] + history + [{\"role\": \"user\", \"content\": message}]\n",
    "    \n",
    "    # Check if collecting booking info\n",
    "    if booking_info.get(\"booking_started\"):\n",
    "        if not booking_info.get(\"departure\"):\n",
    "            booking_info[\"departure\"] = message\n",
    "            return \"Please provide your destination city.\"\n",
    "        elif not booking_info.get(\"destination\"):\n",
    "            booking_info[\"destination\"] = message\n",
    "            price = get_ticket_price(message)\n",
    "            if price == \"Unknown\":\n",
    "                booking_info = {}  # Reset if invalid destination\n",
    "                return \"Sorry, we don't have flights to that destination.\"\n",
    "            booking_info[\"price\"] = price\n",
    "            return \"Please provide your full name.\"\n",
    "        elif not booking_info.get(\"name\"):\n",
    "            booking_info[\"name\"] = message\n",
    "            return \"Please provide your email address.\"\n",
    "        elif not booking_info.get(\"email\"):\n",
    "            booking_info[\"email\"] = message\n",
    "            return \"Please provide your phone number.\"\n",
    "        elif not booking_info.get(\"phone\"):\n",
    "            booking_info[\"phone\"] = message\n",
    "            ticket = generate_ticket(booking_info)\n",
    "            booking_info = {}  # Reset for next booking\n",
    "            return ticket\n",
    "\n",
    "    response = openai.chat.completions.create(model=MODEL, messages=messages, tools=tools)\n",
    "    \n",
    "    if response.choices[0].finish_reason == \"tool_calls\":\n",
    "        tool_call = response.choices[0].message.tool_calls[0]\n",
    "        args = json.loads(tool_call.function.arguments)\n",
    "        city = args.get('destination_city')\n",
    "        price = get_ticket_price(city)\n",
    "        \n",
    "        messages.append(response.choices[0].message)\n",
    "        messages.append({\n",
    "            \"role\": \"tool\",\n",
    "            \"content\": json.dumps({\"destination_city\": city, \"price\": price}),\n",
    "            \"tool_call_id\": tool_call.id\n",
    "        })\n",
    "        response = openai.chat.completions.create(model=MODEL, messages=messages)\n",
    "        \n",
    "        # Start booking process if price is found and user wants to book\n",
    "        if price != \"Unknown\" and \"book\" in message.lower():\n",
    "            booking_info[\"booking_started\"] = True\n",
    "            return \"Please provide your departure city.\"\n",
    "    \n",
    "    return response.choices[0].message.content\n",
    "\n",
    "# Launch interface\n",
    "gr.ChatInterface(fn=chat, type=\"messages\").launch()"
   ]
  },
  {
   "cell_type": "code",
   "execution_count": null,
   "id": "6888f5ab-a618-4c8a-99e5-46cb9ae3a0d5",
   "metadata": {},
   "outputs": [],
   "source": []
  }
 ],
 "metadata": {
  "kernelspec": {
   "display_name": "Python 3 (ipykernel)",
   "language": "python",
   "name": "python3"
  },
  "language_info": {
   "codemirror_mode": {
    "name": "ipython",
    "version": 3
   },
   "file_extension": ".py",
   "mimetype": "text/x-python",
   "name": "python",
   "nbconvert_exporter": "python",
   "pygments_lexer": "ipython3",
   "version": "3.11.11"
  }
 },
 "nbformat": 4,
 "nbformat_minor": 5
}
