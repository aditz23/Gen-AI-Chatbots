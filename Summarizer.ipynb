{
 "cells": [
  {
   "cell_type": "code",
   "execution_count": 3,
   "id": "0c1a6e3b-2d7c-4c04-a260-f33482668662",
   "metadata": {},
   "outputs": [
    {
     "data": {
      "text/markdown": [
       "# Mythopedia Overview\n",
       "\n",
       "**Mythopedia** is an online resource dedicated to mythology, aiming to provide educational and engaging content on various mythologies from around the world. Their mission is to enhance understanding of mythological stories that have shaped civilizations.\n",
       "\n",
       "## Goals\n",
       "- **Enable Discovery**: Offer free, high-quality resources to inspire exploration of ancient mythologies.\n",
       "- **Promote Learning**: Create enjoyable and educational content for visitors, educators, and institutions.\n",
       "- **Advance Research**: Combine original articles with ancient texts for a robust research platform for students and scholars.\n",
       "\n",
       "## Team\n",
       "The Mythopedia team consists of experts and scholars from fields such as ancient history and religious studies, dedicated to high-quality writing and research.\n",
       "\n",
       "## Process\n",
       "1. **Research**: Detailed research on each topic.\n",
       "2. **Writing**: Articles crafted per guidelines.\n",
       "3. **Editing**: Rigorous editing for grammar and flow.\n",
       "4. **Visuals**: Selection of accompanying images with proper citations.\n",
       "5. **Publication**: Regular publication of new articles.\n",
       "\n",
       "## Mythologies Covered\n",
       "- Greek\n",
       "- Norse\n",
       "- Egyptian\n",
       "- Chinese\n",
       "- Celtic\n",
       "- Hindu\n",
       "- Aztec\n",
       "- Japanese\n",
       "\n",
       "## Resources\n",
       "**Name Generators** are available for various fantasy and cultural names, including:\n",
       "- Characters (e.g., Knight, Wizard)\n",
       "- Races (e.g., Human, Elf)\n",
       "- Creatures (e.g., Demon, Vampire)\n",
       "- Places (e.g., Town, City)\n",
       "\n",
       "For further exploration, users can subscribe to a newsletter and contribute to the content.\n",
       "\n",
       "---\n",
       "\n",
       "### Contact\n",
       "- **Email**: alex@mythopedia.com\n",
       "- **Company**: Wasai LLC, © 2022. All Rights Reserved.\n",
       "\n",
       "For more information, visit: [Mythopedia](https://www.mythopedia.com)"
      ],
      "text/plain": [
       "<IPython.core.display.Markdown object>"
      ]
     },
     "metadata": {},
     "output_type": "display_data"
    }
   ],
   "source": [
    "import os\n",
    "import requests\n",
    "from bs4 import BeautifulSoup\n",
    "from openai import OpenAI\n",
    "from dotenv import load_dotenv\n",
    "from IPython.display import Markdown, display\n",
    "\n",
    "# Load API key\n",
    "load_dotenv()\n",
    "openai = OpenAI(api_key=os.getenv(\"OPENAI_API_KEY\"))\n",
    "\n",
    "# User-Agent to prevent request blocks\n",
    "headers = {\n",
    "    \"User-Agent\": \"Mozilla/5.0 (Windows NT 10.0; Win64; x64) AppleWebKit/537.36\"\n",
    "}\n",
    "\n",
    "# Extract content from webpage\n",
    "def extract_text_from_url(url):\n",
    "    response = requests.get(url, headers=headers)\n",
    "    soup = BeautifulSoup(response.content, 'html.parser')\n",
    "    title = soup.title.string if soup.title else \"No title\"\n",
    "    for tag in soup([\"script\", \"style\", \"img\", \"input\"]):\n",
    "        tag.decompose()\n",
    "    text = soup.get_text(separator=\"\\n\", strip=True)\n",
    "    return title, text\n",
    "\n",
    "# Generate summary using OpenAI\n",
    "def summarize_website(url):\n",
    "    title, content = extract_text_from_url(url)\n",
    "    messages = [\n",
    "        {\"role\": \"system\", \"content\": \"You are an assistant that summarizes website content in markdown.\"},\n",
    "        {\"role\": \"user\", \"content\": f\"Website title: {title}\\n\\nContent:\\n{content}\\n\\nPlease summarize this site briefly in markdown.\"}\n",
    "    ]\n",
    "    response = openai.chat.completions.create(model=\"gpt-4o-mini\", messages=messages)\n",
    "    return response.choices[0].message.content\n",
    "\n",
    "# Display result in Markdown\n",
    "def display_summary(url):\n",
    "    summary = summarize_website(url)\n",
    "    display(Markdown(summary))\n",
    "\n",
    "# Example usage\n",
    "display_summary(\"https://mythopedia.com/about\")\n"
   ]
  },
  {
   "cell_type": "code",
   "execution_count": null,
   "id": "d6e9f60d-77b9-4ba6-98e3-1c42a212cd5b",
   "metadata": {},
   "outputs": [],
   "source": []
  },
  {
   "cell_type": "code",
   "execution_count": null,
   "id": "9ab73d99-4b2a-4a98-8c10-5a440be3f96c",
   "metadata": {},
   "outputs": [],
   "source": []
  }
 ],
 "metadata": {
  "kernelspec": {
   "display_name": "Python 3 (ipykernel)",
   "language": "python",
   "name": "python3"
  },
  "language_info": {
   "codemirror_mode": {
    "name": "ipython",
    "version": 3
   },
   "file_extension": ".py",
   "mimetype": "text/x-python",
   "name": "python",
   "nbconvert_exporter": "python",
   "pygments_lexer": "ipython3",
   "version": "3.11.11"
  }
 },
 "nbformat": 4,
 "nbformat_minor": 5
}
